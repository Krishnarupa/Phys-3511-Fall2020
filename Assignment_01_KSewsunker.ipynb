{
 "cells": [
  {
   "cell_type": "markdown",
   "metadata": {},
   "source": [
    "# Assignment 01: Due 09/02\n",
    "\n",
    "For this assignment you can use the following packages\n",
    "- numpy\n",
    "- matplotlib\n",
    "- There is a python math module. This would be imported as\n",
    "  - > import math  \n",
    "  \n",
    "Before final sumbission it is a good idea to click on 'Kernel' --> 'Restart & Run All' to make sure your entire notebook runs correctly. It is easy to accidetly modify a value you did not intend to."
   ]
  },
  {
   "cell_type": "code",
   "execution_count": 120,
   "metadata": {},
   "outputs": [],
   "source": [
    "#import the packages here\n",
    "import numpy as np\n",
    "import matplotlib\n",
    "import matplotlib.pyplot as plt\n",
    "from math import *"
   ]
  },
  {
   "cell_type": "markdown",
   "metadata": {},
   "source": [
    "## Problem 1\n",
    "(Problem adapted from scipy.com)\n",
    "\n",
    "Stirling's Approximation for $ln(n!)$ is:\n",
    "\n",
    "\\begin{equation}\n",
    "ln(n!) \\approx nln(n) − n.\n",
    "\\end{equation}\n",
    "\n",
    "Write a program to output $ln(n!)$ and its Stirling's approximation for $2 < n < 20$. Plot on the same graph the exact value and the approximate value as a function of n. Be sure to lable your curves and axes. **Hint**: the math module (and numpy.math) provides a factorial() method.\n"
   ]
  },
  {
   "cell_type": "code",
   "execution_count": 121,
   "metadata": {},
   "outputs": [
    {
     "data": {
      "text/plain": [
       "(array([ 1.79175947,  3.17805383,  4.78749174,  6.57925121,  8.52516136,\n",
       "        10.6046029 , 12.80182748, 15.10441257, 17.50230785, 19.9872145 ,\n",
       "        22.55216385, 25.19122118, 27.89927138, 30.67186011, 33.50507345,\n",
       "        36.39544521, 39.33988419]),\n",
       " array([ 0.29583687,  1.54517744,  3.04718956,  4.75055682,  6.62137104,\n",
       "         8.63553233, 10.7750212 , 13.02585093, 15.376848  , 17.8188798 ,\n",
       "        20.34434165, 22.94680261, 25.62075302, 28.36141956, 31.16462685,\n",
       "        34.02669164, 36.9443406 ]))"
      ]
     },
     "execution_count": 121,
     "metadata": {},
     "output_type": "execute_result"
    }
   ],
   "source": [
    "values = np.arange(3,20)\n",
    "\n",
    "def stirling(values):\n",
    "    exact_list = []\n",
    "    approximation_list = []\n",
    "    for n in values:\n",
    "        exact_list = np.append(exact_list, np.log(np.math.factorial(n)))\n",
    "    for n in values:\n",
    "        approximation_list = np.append(approximation_list, n*np.log(n) - n)\n",
    "    return exact_list, approximation_list\n",
    "\n",
    "stirling(values)"
   ]
  },
  {
   "cell_type": "code",
   "execution_count": 123,
   "metadata": {},
   "outputs": [
    {
     "data": {
      "image/png": "[encoded data removed]",
      "text/plain": [
       "<Figure size 432x288 with 1 Axes>"
      ]
     },
     "metadata": {
      "needs_background": "light"
     },
     "output_type": "display_data"
    }
   ],
   "source": [
    "plt.plot(values, exact_list)\n",
    "plt.plot(values, approximation_list)\n",
    "plt.title(\"Stirling's Approximations and Exact Values\")\n",
    "plt.xlabel(\"n-value inputs\")\n",
    "plt.ylabel(\"Outputs\")\n",
    "plt.legend([\"Exact values\",\"Approximation values\"])\n",
    "plt.show()"
   ]
  },
  {
   "cell_type": "markdown",
   "metadata": {},
   "source": [
    "Now modify the program to output $ln(n!)$, Stirling's approximation, and the relative error in the approximation, for only the first value of n for which the relative error in the approximation, (exact-approx)/exact,  is less than 1%. Your out put should quote number to 3 decimal places. **Hint**: You may need to increase your n value and you may get an error message. Can you determine why you get an error and how to correctly make this comparison? "
   ]
  },
  {
   "cell_type": "code",
   "execution_count": 204,
   "metadata": {},
   "outputs": [
    {
     "name": "stdout",
     "output_type": "stream",
     "text": [
      "The first the relative error value that's less that 1% is: 0.996 %\n"
     ]
    },
    {
     "data": {
      "text/plain": [
       "(array([  1.79175947,   3.17805383,   4.78749174,   6.57925121,\n",
       "          8.52516136,  10.6046029 ,  12.80182748,  15.10441257,\n",
       "         17.50230785,  19.9872145 ,  22.55216385,  25.19122118,\n",
       "         27.89927138,  30.67186011,  33.50507345,  36.39544521,\n",
       "         39.33988419,  42.33561646,  45.3801389 ,  48.47118135,\n",
       "         51.60667557,  54.7847294 ,  58.00360522,  61.26170176,\n",
       "         64.55753863,  67.88974314,  71.25703897,  74.65823635,\n",
       "         78.09222355,  81.55795946,  85.05446702,  88.58082754,\n",
       "         92.1361756 ,  95.71969454,  99.33061245, 102.96819861,\n",
       "        106.63176026, 110.32063971, 114.03421178, 117.7718814 ,\n",
       "        121.53308152, 125.31727115, 129.12393364, 132.95257504,\n",
       "        136.80272264, 140.67392365, 144.56574395, 148.47776695,\n",
       "        152.40959258, 156.3608363 , 160.33112822, 164.32011226,\n",
       "        168.32744545, 172.35279714, 176.39584841, 180.45629142,\n",
       "        184.53382886, 188.62817342, 192.73904729, 196.86618167,\n",
       "        201.0093164 , 205.16819948, 209.34258675, 213.53224149,\n",
       "        217.73693411, 221.95644182, 226.19054832, 230.43904357,\n",
       "        234.70172344, 238.97838956, 243.268849  , 247.5729141 ,\n",
       "        251.89040221, 256.22113555, 260.56494097, 264.9216498 ,\n",
       "        269.29109765, 273.67312429, 278.06757344, 282.47429269,\n",
       "        286.8931333 , 291.32395009, 295.76660135, 300.22094865,\n",
       "        304.68685677, 309.16419358, 313.65282995, 318.15263962,\n",
       "        322.66349913, 327.1852877 , 331.7178872 , 336.26118198]),\n",
       " array([2.95836866e-01, 1.54517744e+00, 3.04718956e+00, 4.75055682e+00,\n",
       "        6.62137104e+00, 8.63553233e+00, 1.07750212e+01, 1.30258509e+01,\n",
       "        1.53768480e+01, 1.78188798e+01, 2.03443416e+01, 2.29468026e+01,\n",
       "        2.56207530e+01, 2.83614196e+01, 3.11646268e+01, 3.40266916e+01,\n",
       "        3.69443406e+01, 3.99146455e+01, 4.29349712e+01, 4.60029340e+01,\n",
       "        4.91163670e+01, 5.22732919e+01, 5.54718956e+01, 5.87105100e+01,\n",
       "        6.19875954e+01, 6.53017263e+01, 6.86515791e+01, 7.20359214e+01,\n",
       "        7.54536033e+01, 7.89035489e+01, 8.23847495e+01, 8.58962578e+01,\n",
       "        8.94371822e+01, 9.30066818e+01, 9.66039628e+01, 1.00228274e+02,\n",
       "        1.03878904e+02, 1.07555178e+02, 1.11256455e+02, 1.14982124e+02,\n",
       "        1.18731605e+02, 1.22504344e+02, 1.26299812e+02, 1.30117504e+02,\n",
       "        1.33956937e+02, 1.37817649e+02, 1.41699195e+02, 1.45601150e+02,\n",
       "        1.49523107e+02, 1.53464673e+02, 1.57425471e+02, 1.61405139e+02,\n",
       "        1.65403325e+02, 1.69419695e+02, 1.73453922e+02, 1.77505695e+02,\n",
       "        1.81574709e+02, 1.85660674e+02, 1.89763306e+02, 1.93882332e+02,\n",
       "        1.98017488e+02, 2.02168517e+02, 2.06335173e+02, 2.10517213e+02,\n",
       "        2.14714405e+02, 2.18926524e+02, 2.23153349e+02, 2.27394667e+02,\n",
       "        2.31650271e+02, 2.35919961e+02, 2.40203539e+02, 2.44500817e+02,\n",
       "        2.48811609e+02, 2.53135734e+02, 2.57473017e+02, 2.61823288e+02,\n",
       "        2.66186380e+02, 2.70562131e+02, 2.74950382e+02, 2.79350978e+02,\n",
       "        2.83763770e+02, 2.88188611e+02, 2.92625357e+02, 2.97073867e+02,\n",
       "        3.01534006e+02, 3.06005640e+02, 3.10488637e+02, 3.14982870e+02,\n",
       "        3.19488215e+02, 3.24004549e+02, 3.28531753e+02, 3.33069710e+02]))"
      ]
     },
     "execution_count": 204,
     "metadata": {},
     "output_type": "execute_result"
    }
   ],
   "source": [
    "values = np.arange(3,95)\n",
    "\n",
    "def stirling(values):\n",
    "    exact_list = []\n",
    "    approximation_list = []\n",
    "    rel_error_output = []\n",
    "    for n in values:\n",
    "        exact_list = np.append(exact_list, np.log(float(np.math.factorial(n))))\n",
    "    for n in values:\n",
    "        approximation_list = np.append(approximation_list, n*np.log(n) - n)\n",
    "    \n",
    "    rel_error = ((exact_list-approximation_list)/exact_list)*100\n",
    "    \n",
    "    for n in rel_error:\n",
    "        if n < 1:\n",
    "            rel_error_output = np.append(rel_error_output, n)\n",
    "    \n",
    "    print(\"The first the relative error value that's less that 1% is:\", np.round(rel_error_output[0], decimals=3), \"%\")\n",
    "    return exact_list, approximation_list\n",
    "\n",
    "stirling(values)"
   ]
  },
  {
   "cell_type": "markdown",
   "metadata": {},
   "source": [
    "## Problem 2\n",
    "Create a numpy array of 100 7's."
   ]
  },
  {
   "cell_type": "code",
   "execution_count": 125,
   "metadata": {},
   "outputs": [
    {
     "data": {
      "text/plain": [
       "array([7., 7., 7., 7., 7., 7., 7., 7., 7., 7., 7., 7., 7., 7., 7., 7., 7.,\n",
       "       7., 7., 7., 7., 7., 7., 7., 7., 7., 7., 7., 7., 7., 7., 7., 7., 7.,\n",
       "       7., 7., 7., 7., 7., 7., 7., 7., 7., 7., 7., 7., 7., 7., 7., 7., 7.,\n",
       "       7., 7., 7., 7., 7., 7., 7., 7., 7., 7., 7., 7., 7., 7., 7., 7., 7.,\n",
       "       7., 7., 7., 7., 7., 7., 7., 7., 7., 7., 7., 7., 7., 7., 7., 7., 7.,\n",
       "       7., 7., 7., 7., 7., 7., 7., 7., 7., 7., 7., 7., 7., 7., 7.])"
      ]
     },
     "execution_count": 125,
     "metadata": {},
     "output_type": "execute_result"
    }
   ],
   "source": [
    "hundred_7s = np.ones(100)*7\n",
    "hundred_7s"
   ]
  },
  {
   "cell_type": "markdown",
   "metadata": {},
   "source": [
    "## Problem 3\n",
    "Given the numpy array below. Write a print statement that prints the array below for all values that are larger than 5."
   ]
  },
  {
   "cell_type": "code",
   "execution_count": 91,
   "metadata": {},
   "outputs": [
    {
     "name": "stdout",
     "output_type": "stream",
     "text": [
      "[ 5  0  3  3  7  9  3  5  2  4  7  6  8  8 10  1  6  7  7  8  1  5  9  8\n",
      "  9  4  3  0  3  5  0  2  3  8  1  3  3  3  7  0  1  9  9  0 10  4  7  3\n",
      "  2  7]\n"
     ]
    }
   ],
   "source": [
    "np.random.seed(0)\n",
    "arr = np.random.randint(0,11,50)\n",
    "print(arr)"
   ]
  },
  {
   "cell_type": "code",
   "execution_count": 133,
   "metadata": {},
   "outputs": [
    {
     "name": "stdout",
     "output_type": "stream",
     "text": [
      "[ 7.  9.  7.  6.  8.  8. 10.  6.  7.  7.  8.  9.  8.  9.  8.  7.  9.  9.\n",
      " 10.  7.  7.]\n"
     ]
    }
   ],
   "source": [
    "larger_than_five = []\n",
    "for i in arr:\n",
    "    if i >5:\n",
    "        larger_than_five = np.append(larger_than_five, i)\n",
    "        \n",
    "print(larger_than_five)"
   ]
  },
  {
   "cell_type": "markdown",
   "metadata": {},
   "source": [
    "## Problem 4\n",
    "Write a print statement that prints the below array with all values of '3' removed."
   ]
  },
  {
   "cell_type": "code",
   "execution_count": 134,
   "metadata": {},
   "outputs": [
    {
     "name": "stdout",
     "output_type": "stream",
     "text": [
      "[4 5 0 3 3 3 1 3 5 2 4 0 0 4 2 1 0 1 5 1]\n"
     ]
    }
   ],
   "source": [
    "np.random.seed(0)\n",
    "arr2 = np.random.randint(0,6,20)\n",
    "print(arr2)"
   ]
  },
  {
   "cell_type": "code",
   "execution_count": 138,
   "metadata": {},
   "outputs": [
    {
     "name": "stdout",
     "output_type": "stream",
     "text": [
      "[4. 5. 0. 1. 5. 2. 4. 0. 0. 4. 2. 1. 0. 1. 5. 1.]\n"
     ]
    }
   ],
   "source": [
    "no_3s = []\n",
    "\n",
    "for i in arr2:\n",
    "    if i != 3:\n",
    "        no_3s = np.append(no_3s, i)\n",
    "\n",
    "print(no_3s)"
   ]
  },
  {
   "cell_type": "markdown",
   "metadata": {},
   "source": [
    "## Problem 5a\n",
    "Use numpy *random.randn()* to create a random 2D matrix array, that has 1000 entries in each dimension. When genereating the random values set the randome seed to zero. \n",
    "\n",
    "Fixing a seed will ensure that the same *random* values are generated eveytime you run the cell. You can try removing the seed specification and you will notice you get different random number generations each time you run the cell. In genral it is good practice to fix the seed when debugging your code.\n"
   ]
  },
  {
   "cell_type": "code",
   "execution_count": 215,
   "metadata": {},
   "outputs": [
    {
     "name": "stdout",
     "output_type": "stream",
     "text": [
      "[ 1.76405235e+00  4.00157208e-01  9.78737984e-01  2.24089320e+00\n",
      "  1.86755799e+00 -9.77277880e-01  9.50088418e-01 -1.51357208e-01\n",
      " -1.03218852e-01  4.10598502e-01  1.44043571e-01  1.45427351e+00\n",
      "  7.61037725e-01  1.21675016e-01  4.43863233e-01  3.33674327e-01\n",
      "  1.49407907e+00 -2.05158264e-01  3.13067702e-01 -8.54095739e-01\n",
      " -2.55298982e+00  6.53618595e-01  8.64436199e-01 -7.42165020e-01\n",
      "  2.26975462e+00 -1.45436567e+00  4.57585173e-02 -1.87183850e-01\n",
      "  1.53277921e+00  1.46935877e+00  1.54947426e-01  3.78162520e-01\n",
      " -8.87785748e-01 -1.98079647e+00 -3.47912149e-01  1.56348969e-01\n",
      "  1.23029068e+00  1.20237985e+00 -3.87326817e-01 -3.02302751e-01\n",
      " -1.04855297e+00 -1.42001794e+00 -1.70627019e+00  1.95077540e+00\n",
      " -5.09652182e-01 -4.38074302e-01 -1.25279536e+00  7.77490356e-01\n",
      " -1.61389785e+00 -2.12740280e-01 -8.95466561e-01  3.86902498e-01\n",
      " -5.10805138e-01 -1.18063218e+00 -2.81822283e-02  4.28331871e-01\n",
      "  6.65172224e-02  3.02471898e-01 -6.34322094e-01 -3.62741166e-01\n",
      " -6.72460448e-01 -3.59553162e-01 -8.13146282e-01 -1.72628260e+00\n",
      "  1.77426142e-01 -4.01780936e-01 -1.63019835e+00  4.62782256e-01\n",
      " -9.07298364e-01  5.19453958e-02  7.29090562e-01  1.28982911e-01\n",
      "  1.13940068e+00 -1.23482582e+00  4.02341641e-01 -6.84810091e-01\n",
      " -8.70797149e-01 -5.78849665e-01 -3.11552532e-01  5.61653422e-02\n",
      " -1.16514984e+00  9.00826487e-01  4.65662440e-01 -1.53624369e+00\n",
      "  1.48825219e+00  1.89588918e+00  1.17877957e+00 -1.79924836e-01\n",
      " -1.07075262e+00  1.05445173e+00 -4.03176947e-01  1.22244507e+00\n",
      "  2.08274978e-01  9.76639036e-01  3.56366397e-01  7.06573168e-01\n",
      "  1.05000207e-02  1.78587049e+00  1.26912093e-01  4.01989363e-01\n",
      "  1.88315070e+00 -1.34775906e+00 -1.27048500e+00  9.69396708e-01\n",
      " -1.17312341e+00  1.94362119e+00 -4.13618981e-01 -7.47454811e-01\n",
      "  1.92294203e+00  1.48051479e+00  1.86755896e+00  9.06044658e-01\n",
      " -8.61225685e-01  1.91006495e+00 -2.68003371e-01  8.02456396e-01\n",
      "  9.47251968e-01 -1.55010093e-01  6.14079370e-01  9.22206672e-01\n",
      "  3.76425531e-01 -1.09940079e+00  2.98238174e-01  1.32638590e+00\n",
      " -6.94567860e-01 -1.49634540e-01 -4.35153552e-01  1.84926373e+00\n",
      "  6.72294757e-01  4.07461836e-01 -7.69916074e-01  5.39249191e-01\n",
      " -6.74332661e-01  3.18305583e-02 -6.35846078e-01  6.76433295e-01\n",
      "  5.76590817e-01 -2.08298756e-01  3.96006713e-01 -1.09306151e+00\n",
      " -1.49125759e+00  4.39391701e-01  1.66673495e-01  6.35031437e-01\n",
      "  2.38314477e+00  9.44479487e-01 -9.12822225e-01  1.11701629e+00\n",
      " -1.31590741e+00 -4.61584605e-01 -6.82416053e-02  1.71334272e+00\n",
      " -7.44754822e-01 -8.26438539e-01 -9.84525244e-02 -6.63478286e-01\n",
      "  1.12663592e+00 -1.07993151e+00 -1.14746865e+00 -4.37820045e-01\n",
      " -4.98032451e-01  1.92953205e+00  9.49420807e-01  8.75512414e-02\n",
      " -1.22543552e+00  8.44362976e-01 -1.00021535e+00 -1.54477110e+00\n",
      "  1.18802979e+00  3.16942612e-01  9.20858824e-01  3.18727653e-01\n",
      "  8.56830612e-01 -6.51025593e-01 -1.03424284e+00  6.81594518e-01\n",
      " -8.03409664e-01 -6.89549778e-01 -4.55532504e-01  1.74791590e-02\n",
      " -3.53993911e-01 -1.37495129e+00 -6.43618403e-01 -2.22340315e+00\n",
      "  6.25231451e-01 -1.60205766e+00 -1.10438334e+00  5.21650793e-02\n",
      " -7.39562996e-01  1.54301460e+00 -1.29285691e+00  2.67050869e-01\n",
      " -3.92828182e-02 -1.16809350e+00  5.23276661e-01 -1.71546331e-01\n",
      "  7.71790551e-01  8.23504154e-01  2.16323595e+00  1.33652795e+00\n",
      " -3.69181838e-01 -2.39379178e-01  1.09965960e+00  6.55263731e-01\n",
      "  6.40131526e-01 -1.61695604e+00 -2.43261244e-02 -7.38030909e-01\n",
      "  2.79924599e-01 -9.81503896e-02  9.10178908e-01  3.17218215e-01\n",
      "  7.86327962e-01 -4.66419097e-01 -9.44446256e-01 -4.10049693e-01\n",
      " -1.70204139e-02  3.79151736e-01  2.25930895e+00 -4.22571517e-02\n",
      " -9.55945000e-01 -3.45981776e-01 -4.63595975e-01  4.81481474e-01\n",
      " -1.54079701e+00  6.32619942e-02  1.56506538e-01  2.32181036e-01\n",
      " -5.97316069e-01 -2.37921730e-01 -1.42406091e+00 -4.93319883e-01\n",
      " -5.42861476e-01  4.16050046e-01 -1.15618243e+00  7.81198102e-01\n",
      "  1.49448454e+00 -2.06998503e+00  4.26258731e-01  6.76908035e-01\n",
      " -6.37437026e-01 -3.97271814e-01 -1.32880578e-01 -2.97790879e-01\n",
      " -3.09012969e-01 -1.67600381e+00  1.15233156e+00  1.07961859e+00\n",
      " -8.13364259e-01 -1.46642433e+00  5.21064876e-01 -5.75787970e-01\n",
      "  1.41953163e-01 -3.19328417e-01  6.91538751e-01  6.94749144e-01\n",
      " -7.25597378e-01 -1.38336396e+00 -1.58293840e+00  6.10379379e-01\n",
      " -1.18885926e+00 -5.06816354e-01 -5.96314038e-01 -5.25672963e-02\n",
      " -1.93627981e+00  1.88778597e-01  5.23891024e-01  8.84220870e-02\n",
      " -3.10886172e-01  9.74001663e-02  3.99046346e-01 -2.77259276e+00\n",
      "  1.95591231e+00  3.90093323e-01 -6.52408582e-01 -3.90953375e-01\n",
      "  4.93741777e-01 -1.16103939e-01 -2.03068447e+00  2.06449286e+00\n",
      " -1.10540657e-01  1.02017271e+00 -6.92049848e-01  1.53637705e+00\n",
      "  2.86343689e-01  6.08843834e-01 -1.04525337e+00  1.21114529e+00\n",
      "  6.89818165e-01  1.30184623e+00 -6.28087560e-01 -4.81027118e-01\n",
      "  2.30391670e+00 -1.06001582e+00 -1.35949701e-01  1.13689136e+00\n",
      "  9.77249677e-02  5.82953680e-01 -3.99449029e-01  3.70055888e-01\n",
      " -1.30652685e+00  1.65813068e+00 -1.18164045e-01 -6.80178204e-01\n",
      "  6.66383082e-01 -4.60719787e-01 -1.33425847e+00 -1.34671751e+00\n",
      "  6.93773153e-01 -1.59573438e-01 -1.33701560e-01  1.07774381e+00\n",
      " -1.12682581e+00 -7.30677753e-01 -3.84879809e-01  9.43515893e-02\n",
      " -4.21714513e-02 -2.86887192e-01 -6.16264021e-02 -1.07305276e-01\n",
      " -7.19604389e-01 -8.12992989e-01  2.74516358e-01 -8.90915083e-01\n",
      " -1.15735526e+00 -3.12292251e-01 -1.57667016e-01  2.25672350e+00\n",
      " -7.04700276e-01  9.43260725e-01  7.47188334e-01 -1.18894496e+00\n",
      "  7.73252977e-01 -1.18388064e+00 -2.65917224e+00  6.06319524e-01\n",
      " -1.75589058e+00  4.50934462e-01 -6.84010898e-01  1.65955080e+00\n",
      "  1.06850940e+00 -4.53385804e-01 -6.87837611e-01 -1.21407740e+00\n",
      " -4.40922632e-01 -2.80355495e-01 -3.64693544e-01  1.56703855e-01\n",
      "  5.78521498e-01  3.49654457e-01 -7.64143924e-01 -1.43779147e+00\n",
      "  1.36453185e+00 -6.89449185e-01 -6.52293600e-01 -5.21189312e-01\n",
      " -1.84306955e+00 -4.77974004e-01 -4.79655814e-01  6.20358298e-01\n",
      "  6.98457149e-01  3.77088909e-03  9.31848374e-01  3.39964984e-01\n",
      " -1.56821116e-02  1.60928168e-01 -1.90653494e-01 -3.94849514e-01\n",
      " -2.67733537e-01 -1.12801133e+00  2.80441705e-01 -9.93123611e-01\n",
      "  8.41631264e-01 -2.49458580e-01  4.94949817e-02  4.93836776e-01\n",
      "  6.43314465e-01 -1.57062341e+00 -2.06903676e-01  8.80178912e-01\n",
      " -1.69810582e+00  3.87280475e-01 -2.25556423e+00 -1.02250684e+00\n",
      "  3.86305518e-02 -1.65671510e+00 -9.85510738e-01 -1.47183501e+00\n",
      "  1.64813493e+00  1.64227755e-01  5.67290278e-01 -2.22675101e-01\n",
      " -3.53431749e-01 -1.61647419e+00 -2.91837363e-01 -7.61492212e-01\n",
      "  8.57923924e-01  1.14110187e+00  1.46657872e+00  8.52551939e-01\n",
      " -5.98653937e-01 -1.11589699e+00  7.66663182e-01  3.56292817e-01\n",
      " -1.76853845e+00  3.55481793e-01  8.14519822e-01  5.89255892e-02\n",
      " -1.85053671e-01 -8.07648488e-01 -1.44653470e+00  8.00297949e-01\n",
      " -3.09114445e-01 -2.33466662e-01  1.73272119e+00  6.84501107e-01\n",
      "  3.70825001e-01  1.42061805e-01  1.51999486e+00  1.71958931e+00\n",
      "  9.29505111e-01  5.82224591e-01 -2.09460307e+00  1.23721914e-01\n",
      " -1.30106954e-01  9.39532294e-02  9.43046087e-01 -2.73967717e+00\n",
      " -5.69312053e-01  2.69904355e-01 -4.66845546e-01 -1.41690611e+00\n",
      "  8.68963487e-01  2.76871906e-01 -9.71104570e-01  3.14817205e-01\n",
      "  8.21585712e-01  5.29264630e-03  8.00564803e-01  7.82601752e-02\n",
      " -3.95228983e-01 -1.15942052e+00 -8.59307670e-02  1.94292938e-01\n",
      "  8.75832762e-01 -1.15107468e-01  4.57415606e-01 -9.64612014e-01\n",
      " -7.82629156e-01 -1.10389299e-01 -1.05462846e+00  8.20247837e-01\n",
      "  4.63130329e-01  2.79095764e-01  3.38904125e-01  2.02104356e+00\n",
      " -4.68864188e-01 -2.20144129e+00  1.99300197e-01 -5.06035410e-02\n",
      " -5.17519043e-01 -9.78829859e-01 -4.39189522e-01  1.81338429e-01\n",
      " -5.02816701e-01  2.41245368e+00 -9.60504382e-01 -7.93117363e-01\n",
      " -2.28862004e+00  2.51484415e-01 -2.01640663e+00 -5.39454633e-01\n",
      " -2.75670535e-01 -7.09727966e-01  1.73887268e+00  9.94394391e-01\n",
      "  1.31913688e+00 -8.82418819e-01  1.12859406e+00  4.96000946e-01\n",
      "  7.71405949e-01  1.02943883e+00 -9.08763246e-01 -4.24317621e-01\n",
      "  8.62596011e-01 -2.65561909e+00  1.51332808e+00  5.53132064e-01\n",
      " -4.57039607e-02  2.20507656e-01 -1.02993528e+00 -3.49943365e-01\n",
      "  1.10028434e+00  1.29802197e+00  2.69622405e+00 -7.39246663e-02\n",
      " -6.58552967e-01 -5.14233966e-01 -1.01804188e+00 -7.78547559e-02\n",
      "  3.82732430e-01 -3.42422805e-02  1.09634685e+00 -2.34215801e-01\n",
      " -3.47450652e-01 -5.81268477e-01 -1.63263453e+00 -1.56776772e+00\n",
      " -1.17915793e+00  1.30142807e+00  8.95260273e-01  1.37496407e+00\n",
      " -1.33221165e+00 -1.96862469e+00 -6.60056320e-01  1.75818953e-01\n",
      "  4.98690275e-01  1.04797216e+00  2.84279671e-01  1.74266878e+00\n",
      " -2.22605681e-01 -9.13079218e-01 -1.68121822e+00 -8.88971358e-01\n",
      "  2.42117961e-01 -8.88720257e-01  9.36742464e-01  1.41232771e+00\n",
      " -2.36958691e+00  8.64052300e-01 -2.23960406e+00  4.01499055e-01\n",
      "  1.22487056e+00  6.48561063e-02 -1.27968917e+00 -5.85431204e-01\n",
      " -2.61645446e-01 -1.82244784e-01 -2.02896841e-01 -1.09882779e-01\n",
      "  2.13480049e-01 -1.20857365e+00 -2.42019830e-01  1.51826117e+00\n",
      " -3.84645423e-01 -4.43836093e-01  1.07819730e+00 -2.55918467e+00\n",
      "  1.18137860e+00 -6.31903758e-01  1.63928572e-01  9.63213559e-02\n",
      "  9.42468119e-01 -2.67594746e-01 -6.78025782e-01  1.29784579e+00\n",
      " -2.36417382e+00  2.03341817e-02 -1.34792542e+00 -7.61573388e-01\n",
      "  2.01125668e+00 -4.45954265e-02  1.95069697e-01 -1.78156286e+00\n",
      " -7.29044659e-01  1.96557401e-01  3.54757693e-01  6.16886554e-01\n",
      "  8.62789892e-03  5.27004208e-01  4.53781913e-01 -1.82974041e+00\n",
      "  3.70057219e-02  7.67902408e-01  5.89879821e-01 -3.63858810e-01\n",
      " -8.05626508e-01 -1.11831192e+00 -1.31054012e-01  1.13307988e+00\n",
      " -1.95180410e+00 -6.59891730e-01 -1.13980246e+00  7.84957521e-01\n",
      " -5.54309627e-01 -4.70637658e-01 -2.16949570e-01  4.45393251e-01\n",
      " -3.92388998e-01 -3.04614305e+00  5.43311891e-01  4.39042958e-01\n",
      " -2.19541028e-01 -1.08403662e+00  3.51780111e-01  3.79235534e-01\n",
      " -4.70032883e-01 -2.16731471e-01 -9.30156503e-01 -1.78589092e-01\n",
      " -1.55042935e+00  4.17318821e-01 -9.44368491e-01  2.38103148e-01\n",
      " -1.40596292e+00 -5.90057646e-01 -1.10489405e-01 -1.66069981e+00\n",
      "  1.15147873e-01 -3.79147563e-01 -1.74235620e+00 -1.30324275e+00\n",
      "  6.05120084e-01  8.95555986e-01 -1.31908640e-01  4.04761812e-01\n",
      "  2.23843563e-01  3.29622982e-01  1.28598401e+00 -1.50699840e+00\n",
      "  6.76460732e-01 -3.82008956e-01 -2.24258934e-01 -3.02249730e-01\n",
      " -3.75147117e-01 -1.22619619e+00  1.83339199e-01  1.67094303e+00\n",
      " -5.61330204e-02 -1.38504274e-03 -6.87299037e-01 -1.17474546e-01\n",
      "  4.66166426e-01 -3.70242441e-01 -4.53804041e-01  4.03264540e-01\n",
      " -9.18004770e-01  2.52496627e-01  8.20321797e-01  1.35994854e+00\n",
      " -9.03820073e-02  1.36759724e+00  1.03440989e+00 -9.96212640e-01\n",
      " -1.21793851e+00 -3.04963638e-01  1.02893549e+00 -7.22870076e-02\n",
      " -6.00657558e-01  1.55224318e+00  2.86904488e-01 -2.32059428e+00\n",
      "  3.17160626e-01  5.20040615e-01  2.25608654e-01  4.49712100e-01\n",
      " -6.72756089e-02 -1.31839587e+00 -3.70704003e-01 -9.45615796e-01\n",
      " -9.32740911e-01 -1.26306835e+00  4.52489093e-01  9.78961454e-02\n",
      " -4.48165363e-01 -6.49337928e-01 -2.34231050e-02  1.07919473e+00\n",
      " -2.00421572e+00  3.76876521e-01 -5.45711974e-01 -1.88458584e+00\n",
      " -1.94570308e+00 -9.12783494e-01  2.19509556e-01  3.93062934e-01\n",
      " -9.38981573e-01  1.01702099e+00  1.42298350e+00  3.96086585e-01\n",
      " -5.91402668e-01  1.12441918e+00  7.55395696e-01  8.67407411e-01\n",
      " -6.56463675e-01 -2.83455451e+00  2.11679102e+00 -1.61087840e+00\n",
      " -3.57680719e-02  2.38074535e+00  3.30576756e-01  9.49246474e-01\n",
      " -1.50239657e+00 -1.77766695e+00 -5.32702792e-01  1.09074973e+00\n",
      " -3.46249448e-01 -7.94636321e-01  1.97967290e-01  1.08193522e+00\n",
      " -1.44494020e+00 -1.21054299e+00 -7.88669255e-01  1.09463837e+00\n",
      "  2.34821526e-01  2.13215341e+00  9.36445726e-01 -3.50951769e-02\n",
      "  1.26507784e+00  2.11497013e-01 -7.04921353e-01  6.79974844e-01\n",
      " -6.96326654e-01 -2.90397101e-01  1.32778270e+00 -1.01281486e-01\n",
      " -8.03141387e-01 -4.64337691e-01  1.02179059e+00 -5.52540673e-01\n",
      " -3.86870847e-01 -5.10292740e-01  1.83925494e-01 -3.85489760e-01\n",
      " -1.60183605e+00 -8.87180942e-01 -9.32789042e-01  1.24331938e+00\n",
      "  8.12674042e-01  5.87259379e-01 -5.05358317e-01 -8.15791542e-01\n",
      " -5.07517602e-01 -1.05188010e+00  2.49720039e+00 -2.24532165e+00\n",
      "  5.64008535e-01 -1.28455230e+00 -1.04343491e-01 -9.88001942e-01\n",
      " -1.17762896e+00 -1.14019630e+00  1.75498615e+00 -1.32988422e-01\n",
      " -7.65702194e-01  5.55786964e-01  1.03493146e-02  7.20033759e-01\n",
      " -1.82425666e+00  3.03603904e-01  7.72694837e-01 -1.66159829e+00\n",
      "  4.48195284e-01  1.69618157e+00 -1.48577034e-02  8.21405937e-01\n",
      "  6.70570450e-01 -7.07505698e-01  3.97667346e-02 -1.56699471e+00\n",
      " -4.51303037e-01  2.65687975e-01  7.23100494e-01  2.46121252e-02\n",
      "  7.19983730e-01 -1.10290621e+00 -1.01697275e-01  1.92793845e-02\n",
      "  1.84959125e+00 -2.14166656e-01 -4.99016638e-01  2.13512238e-02\n",
      " -9.19113445e-01  1.92753849e-01 -3.65055217e-01 -1.79132755e+00\n",
      " -5.85865511e-02 -3.17543094e-01 -1.63242330e+00 -6.71341546e-02\n",
      "  1.48935596e+00  5.21303748e-01  6.11927193e-01 -1.34149673e+00\n",
      "  4.76898369e-01  1.48449581e-01  5.29045238e-01  4.22628622e-01\n",
      " -1.35978073e+00 -4.14008116e-02 -7.57870860e-01 -5.00840943e-02\n",
      " -8.97400927e-01  1.31247037e+00 -8.58972388e-01 -8.98942156e-01\n",
      "  7.45864065e-02 -1.07709907e+00 -4.24663302e-01 -8.29964598e-01\n",
      "  1.41117206e+00  7.85803827e-01 -5.74695185e-02 -3.91217052e-01\n",
      "  9.40917615e-01  4.05204080e-01  4.98052405e-01 -2.61922373e-02\n",
      " -1.68823003e+00 -1.12465983e-01 -5.32489919e-01  6.45055273e-01\n",
      "  1.01184243e+00 -6.57951045e-01  4.68385234e-01  1.73587900e+00\n",
      " -6.67712721e-01  1.68192174e+00 -8.52585847e-01  2.29597556e-02\n",
      " -1.11456118e-02  1.14988999e-02 -8.37678042e-01 -5.91183104e-01\n",
      " -6.67720286e-01  3.26962595e-01  3.30035115e-01  2.22594433e+00\n",
      "  1.37098901e+00 -5.09843242e-01  3.24869616e-01  9.97117981e-01\n",
      "  3.06018243e-02 -6.96415784e-02  5.15749428e-02  8.67276629e-01\n",
      " -8.48320523e-01 -3.25669469e-01  4.70433145e-01  3.11447072e-01\n",
      "  2.39582760e-01 -3.69801166e-01  9.72535789e-01  2.13386825e+00\n",
      "  4.06415494e-01 -1.93176702e-01  7.55740289e-01 -5.39132637e-01\n",
      " -7.49690345e-01  3.28087476e-02 -2.58279663e+00 -1.15395036e+00\n",
      " -3.47961856e-01 -1.35338886e+00 -1.03264310e+00 -4.36748337e-01\n",
      " -1.64296529e+00 -4.06071796e-01 -5.35270165e-01  2.54052084e-02\n",
      "  1.15418403e+00  1.72504416e-01  2.10620213e-02  9.94544570e-02\n",
      "  2.27392775e-01 -1.01673865e+00 -1.14775325e-01  3.08751242e-01\n",
      " -1.37075998e+00  8.65652923e-01  1.08137603e+00 -6.31375988e-01\n",
      " -2.41337791e-01 -8.78190343e-01  6.99380484e-01 -1.06122229e+00\n",
      " -2.22477010e-01 -8.58919908e-01  5.09542770e-02 -1.79422927e+00\n",
      "  1.32646164e+00 -9.64606424e-01  5.98946831e-02 -2.12523045e-01\n",
      " -7.62114512e-01 -8.87780137e-01  9.36398544e-01 -5.25640593e-01\n",
      "  2.71170185e-01 -8.01496885e-01 -6.47181432e-01  4.72247150e-01\n",
      "  9.30408496e-01 -1.75316402e-01 -1.42191987e+00  1.99795608e+00\n",
      " -8.56549308e-01 -1.54158740e+00  2.59442459e+00 -4.04032294e-01\n",
      " -1.46173269e+00 -6.83439767e-01  3.67544896e-01  1.90311558e-01\n",
      " -8.51729197e-01  1.82272360e+00 -5.21579678e-01 -1.18468659e+00\n",
      "  9.60693398e-01  1.32906285e+00 -8.17493098e-01 -1.40134729e+00\n",
      "  1.03043827e+00 -2.04732361e+00 -1.22662166e+00  9.67446150e-01\n",
      " -5.53525480e-02 -2.63937349e-01  3.52816606e-01 -1.52774424e-01\n",
      " -1.29868672e+00  1.27607535e+00  1.32501405e+00  2.05332564e-01\n",
      "  4.51340154e-02  2.33962481e+00 -2.76432845e-01 -2.59576982e-01\n",
      "  3.64481249e-01  1.47132196e+00  1.59277075e+00 -2.58572632e-01\n",
      "  3.08331246e-01 -1.37808347e+00 -3.11976108e-01 -8.40290395e-01\n",
      " -1.00683175e+00  1.68157672e+00 -7.92286662e-01 -5.31605908e-01\n",
      "  3.65848788e-01  1.29782527e+00  4.81115126e-01  2.75935511e+00\n",
      " -7.46679783e-02  2.58716440e-01  2.75600674e-01  1.43504939e+00\n",
      "  5.07238951e-01 -1.16229700e-01 -9.47488595e-01  2.44443456e-01\n",
      "  1.40134483e+00 -4.10381794e-01  5.28943618e-01  2.46147789e-01\n",
      "  8.63519658e-01 -8.04753741e-01  2.34664703e+00 -1.27916111e+00\n",
      " -3.65551090e-01  9.38092541e-01  2.96733172e-01  8.29986159e-01\n",
      " -4.96102334e-01 -7.48049827e-02  1.22319836e-02  1.56925961e+00\n",
      "  6.90429024e-01  7.96672108e-01 -6.57926093e-01  9.68882639e-01\n",
      "  2.25581664e-01  1.38914532e+00  2.01406015e+00 -3.06765776e-01\n",
      " -4.06303130e-01 -8.64044991e-01 -1.43579512e-01 -3.82025449e-01\n",
      "  3.59504400e-01 -1.44566817e-01 -3.61599281e-01  1.06458514e+00\n",
      " -9.37880231e-01  4.33107953e-01 -4.05941727e-01  7.24368505e-01\n",
      "  1.38526155e+00 -3.03098253e-01  4.41032907e-01  1.78792866e-01\n",
      " -7.99422400e-01  2.40787510e-01  2.89120505e-01  4.12870820e-01\n",
      " -1.98398897e-01  9.41923003e-02 -1.14761094e+00 -3.58114075e-01] [ 5.55962680e-01  8.92473887e-01 -4.22314824e-01  1.04714029e-01\n",
      "  2.28053325e-01  2.01479947e-01  5.40773585e-01 -1.81807763e+00\n",
      " -4.93240701e-02  2.39033601e-01 -1.00033035e+00  1.67398571e+00\n",
      "  1.61559267e-01  1.56340475e+00 -7.90523022e-01 -9.07300122e-01\n",
      "  2.24252221e-01 -1.67868836e+00  2.14965591e-01  9.72192320e-02\n",
      "  1.01566528e+00  7.01041341e-01 -4.17477350e-01 -1.09749665e+00\n",
      "  1.71230522e+00 -7.92115021e-01 -1.04552456e+00 -1.08485606e+00\n",
      "  1.11730532e+00 -5.18900204e-01 -7.53704466e-01  1.37689826e-01\n",
      " -2.06944711e-01 -6.78095461e-01  7.53991467e-01  1.06531549e+00\n",
      "  9.85317509e-01  7.66919670e-01  4.02625531e-01 -1.77588800e+00\n",
      "  1.66925081e+00  3.01989210e-01  6.08156428e-01  1.11496232e+00\n",
      "  1.43335250e+00  4.18398011e-01  4.35546159e-01 -5.99224277e-01\n",
      "  3.30897511e-02 -8.54161261e-01 -7.19940532e-01 -8.93574402e-01\n",
      " -1.56023891e-01  1.04909319e+00  3.17097477e+00  1.89499638e-01\n",
      " -1.34841309e+00  1.26498333e+00 -3.00783876e-01 -6.60608594e-01\n",
      "  2.09849478e-01 -1.24062460e+00  2.22463164e-01 -8.83755232e-02\n",
      "  9.83779068e-02  3.81416254e-01  6.74922572e-02  1.63380841e-02\n",
      "  2.84314519e-01  4.15400626e-01 -1.03148246e+00 -1.42999126e+00\n",
      " -6.16380522e-02 -1.43273549e+00  8.75314709e-02  9.38746876e-01\n",
      "  6.07111672e-01 -1.04817041e+00 -8.60262452e-01  3.28301295e-01\n",
      " -4.01297805e-01 -3.16655295e-01  5.96906481e-01 -9.87286693e-01\n",
      " -4.01234710e-01 -8.00082476e-01 -1.04312950e+00 -8.57078189e-01\n",
      "  6.77462169e-01  5.18203895e-02 -8.79160629e-01 -2.31101608e-01\n",
      " -1.63880731e+00 -7.33312808e-01  2.14957453e+00 -9.02438497e-02\n",
      "  7.31658927e-01 -6.54883751e-02  3.48169235e-01  6.63258090e-01\n",
      " -1.10461660e+00 -3.09362573e-02  1.57886519e+00 -7.95500550e-01\n",
      " -5.66439854e-01 -3.07691277e-01  2.69024073e-01  5.24917864e-01\n",
      "  1.26741165e+00  4.99498233e-01 -6.20531258e-02  1.25916713e+00\n",
      "  7.04111022e-01 -1.49567952e+00  2.52636824e+00  1.76992139e+00\n",
      " -1.68214223e-01  3.77910102e-01  1.32435875e+00 -1.72200793e-01\n",
      "  7.30351790e-01  1.10457847e+00 -1.01482591e+00 -6.02331854e-01\n",
      "  9.21408398e-01  4.60814477e-01  9.23796560e-01 -1.32568015e-01\n",
      " -2.89005211e-01 -1.99863948e+00 -1.14600043e+00  4.70660947e-02\n",
      "  8.24557220e-01  5.31178367e-01 -1.28241974e-01 -2.71771566e-01\n",
      "  2.17179633e-01  7.82111811e-02  1.40454551e+00  1.46440770e-01\n",
      " -1.48124596e+00 -1.27255814e+00  1.51875934e+00 -1.17116046e+00\n",
      "  7.64497453e-01 -2.68372735e-01 -1.69758294e-01 -1.34132783e-01\n",
      "  1.22138496e+00 -1.92841829e-01 -3.33192828e-02 -1.53080350e+00\n",
      "  2.06690512e-01  5.31042507e-01  2.39145581e-01  1.39789626e+00\n",
      "  5.51713548e-02  2.98977456e-01  1.64850401e+00 -1.55001419e+00\n",
      " -4.55825348e-01  1.42615875e+00  9.36129148e-01  6.78380099e-01\n",
      "  8.32650739e-01  3.27066209e-01  1.63159743e+00  3.77759170e-01\n",
      "  2.39867106e-01  1.58958674e-01  1.92863956e-01 -1.15701728e+00\n",
      "  7.70673054e-01 -1.30439734e-01  1.82191510e+00 -7.56504706e-02\n",
      "  4.20918284e-01  2.46602186e-01 -6.25557035e-01  9.92136829e-01\n",
      "  1.90506364e+00 -1.47772197e-02 -3.00478786e-01 -3.55028731e-01\n",
      " -1.89236189e+00 -1.77813144e-01  2.50998116e-01  1.05475793e+00\n",
      "  9.60047741e-01 -4.16499082e-01 -2.76822995e-01  1.12390531e+00\n",
      " -1.73463897e-01 -5.10029540e-01  1.39251845e+00  1.03758567e+00\n",
      "  1.87917918e-02 -5.93777448e-01 -2.01188032e+00  5.89703606e-01\n",
      " -8.96369723e-01 -1.96273201e+00  1.58482053e+00  6.47967791e-01\n",
      " -1.13900819e+00 -1.21440138e+00  8.70961782e-01 -8.77970617e-01\n",
      "  1.29614987e+00  6.16459313e-01  5.36596521e-01  4.04695456e-01\n",
      "  1.91450872e-01  8.80511199e-01 -4.54080363e-01  8.59519734e-02\n",
      "  7.51946588e-01  5.62989719e-01 -1.19498681e+00 -5.00409667e-01\n",
      "  2.52803505e-01 -4.08014709e-01  1.77465856e+00 -3.93153195e-01\n",
      " -1.62218448e-01  7.69430178e-01  3.30532743e-01 -1.45274457e-01\n",
      " -7.56493529e-01  3.01514057e-01  1.03909644e+00  4.79095224e-01\n",
      " -7.78183521e-01  1.73677496e+00 -1.44657789e+00 -1.58268564e+00\n",
      "  9.60557224e-01  2.25840479e-01 -5.49498546e-01 -1.09857073e+00\n",
      "  2.32079984e+00  1.17090872e-01  5.34201171e-01  3.17885097e-01\n",
      "  4.34807958e-01  5.40094461e-01  7.32424010e-01 -3.75222401e-01\n",
      " -2.91641986e-01 -1.74102281e+00 -7.80304407e-01  2.71112796e-01\n",
      "  1.04502338e+00  5.99039526e-01 -3.40692344e-01 -1.26317291e+00\n",
      " -2.77735915e+00  1.15173397e+00 -5.89228987e-01 -4.48465006e-01\n",
      "  1.31573968e-01 -1.40556005e+00 -3.49782180e-01  2.02347195e+00\n",
      "  5.05386939e-01  3.59249157e-01 -1.58249448e+00  2.24360189e+00\n",
      " -1.42279491e+00  1.92232476e+00 -2.11505602e+00  1.40536544e+00\n",
      "  1.61805427e+00 -8.24409121e-01  4.22580372e-01  5.47480572e-01\n",
      " -8.13794483e-01 -1.44911761e+00 -1.31771734e+00  5.41008220e-01\n",
      " -8.51156025e-02 -5.64301033e-01  9.66768011e-01  5.08067909e-01\n",
      " -7.55462726e-01 -1.20120152e+00  5.23261739e-01 -5.37583369e-01\n",
      "  9.92048625e-02  1.57629897e+00  5.02328240e-01 -8.62267000e-01\n",
      "  1.60661190e-01 -9.52644953e-01  1.60852216e+00 -5.61578750e-01\n",
      "  2.07270747e-01  3.07732575e-01  1.59250468e-01 -1.95854896e+00\n",
      " -1.44642106e+00 -4.52350276e-01  3.19431833e-01 -1.37779214e-01\n",
      " -9.57147473e-01 -1.34842432e+00 -4.01557544e-01 -4.68476045e-01\n",
      "  5.12836458e-01 -3.26318462e-01  6.02707656e-01 -5.94649770e-01\n",
      " -2.55957669e-01 -3.48046380e-01 -7.82366967e-01  6.25118656e-01\n",
      " -8.13595997e-01 -5.21641510e-01 -7.31196459e-02 -1.29737966e+00\n",
      " -3.24934958e-01 -7.11306360e-01 -3.88154192e-01 -5.99280027e-02\n",
      " -7.99913623e-01 -2.20075780e-01  1.30866875e+00 -2.57985583e-02\n",
      "  1.14526217e+00  3.46494442e-01  7.74160610e-01 -7.74458969e-01\n",
      "  1.04907165e-01  1.33912923e-01 -6.12625739e-01 -8.22828324e-01\n",
      " -1.49026539e+00  1.49613964e+00 -9.72402889e-01  1.34622107e+00\n",
      " -4.67493174e-01 -8.62493300e-01  6.22519140e-01 -6.31191942e-01\n",
      "  5.68458919e-01 -3.32811765e-01  4.80424496e-01 -9.68186064e-01\n",
      "  8.31351058e-01  4.87972683e-01 -9.19650690e-01  2.64293572e+00\n",
      "  5.40123026e-01  2.29046707e+00  1.60026782e+00 -1.88834780e-01\n",
      " -4.12271755e-01 -4.03459183e-01 -1.83002855e+00 -6.95835119e-01\n",
      "  2.46766024e-01  1.52595756e+00 -7.72771883e-01  8.82056599e-01\n",
      " -1.25259334e+00 -5.86320025e-01 -4.57640594e-01  3.71811081e-01\n",
      "  4.57309647e-01  9.62341745e-01  7.70836960e-01  2.43168215e-01\n",
      "  3.90364944e-01  1.58853069e+00 -5.10926181e-01  7.74728319e-01\n",
      " -1.80814393e+00  4.11334243e-01 -4.83249542e-01  2.57118243e-03\n",
      "  1.04008625e+00  1.64643810e-01  8.85187541e-01  1.47376482e+00\n",
      "  3.89093969e-01  1.17104106e+00 -3.26560978e-01 -8.20988227e-03\n",
      " -5.22619416e-01  1.04297759e+00  4.14091354e-01 -5.07234462e-01\n",
      "  1.54668834e-01  1.04156839e+00 -3.92679910e-02 -9.48932811e-01\n",
      "  1.31911756e-01 -1.98056559e+00  7.68770644e-01 -4.21327587e-01\n",
      " -4.69310736e-01  8.75695679e-01 -1.36516288e+00  1.94709864e+00\n",
      " -4.80242042e-01 -5.23250943e-01  1.02122474e+00  7.08695273e-01\n",
      "  2.45122972e+00 -2.11205984e-01 -1.20406639e-01 -1.47931598e+00\n",
      " -3.32102277e-01 -7.21431296e-01 -4.48767013e-01 -1.74418776e+00\n",
      "  1.66060756e+00 -1.41660348e+00 -2.80220280e+00 -1.18842442e+00\n",
      " -6.03839553e-01 -1.14955406e+00  1.09830354e+00 -1.37839179e-01\n",
      "  2.53856044e-02  6.10391764e-01  2.86012527e-01  9.78567297e-01\n",
      " -1.10947755e+00 -5.47518101e-01  6.65967146e-01 -2.53455446e+00\n",
      " -1.37518448e+00  5.00992232e-01 -4.80249035e-01  9.36107550e-01\n",
      "  8.09180297e-01 -1.19809288e+00  4.06657087e-01  1.20169786e+00\n",
      "  1.47434402e-01 -9.77464877e-01  8.79389942e-01  6.35424527e-01\n",
      "  5.42610783e-01  7.15938893e-01 -2.99461286e+00  8.80937561e-01\n",
      "  1.80813181e+00  4.36638475e-01  1.92728996e-01  6.96438673e-01\n",
      "  3.38225474e-01  6.51781262e-01  1.47100025e-03 -7.66704855e-01\n",
      " -1.00432271e+00 -9.98191728e-01 -1.37304255e+00 -1.06774201e+00\n",
      "  1.76126613e+00  7.54095664e-01 -6.25027391e-01 -3.90392694e-01\n",
      "  1.12557531e-01 -6.55545029e-01  6.75168572e-02  7.77604138e-01\n",
      " -3.57427335e-02  3.36015743e-01  8.86491539e-01 -2.72131756e-01\n",
      "  2.84790599e-01 -3.09377593e-01 -2.85288698e-02 -3.24730265e-01\n",
      " -5.28869854e-01  1.73711853e-01  5.66545316e-01  1.46304446e-01\n",
      "  4.98726958e-01 -7.37931780e-01 -1.20373519e+00  4.17043503e-01\n",
      "  6.87881391e-01  4.98572666e-02  1.34803578e+00  9.07698798e-01\n",
      "  2.68057084e+00 -2.00808514e-01 -9.98848796e-01 -7.40136791e-01\n",
      " -5.65497806e-01  4.76031383e-01 -2.15806856e+00  1.31855102e+00\n",
      " -2.39296591e-01 -2.46793558e-01 -1.07934317e+00 -1.14225551e-01\n",
      "  1.32397677e-02 -1.21944928e-01  3.39059256e-01 -5.89632042e-01\n",
      " -8.95815760e-01  5.48328130e-01  9.86674538e-02  1.97181055e-01\n",
      "  1.05902725e+00 -1.02256439e+00 -8.55240457e-01  1.25721965e+00\n",
      " -1.48288336e+00 -1.30941215e+00  8.17861831e-01  2.38200192e-01\n",
      "  1.05232137e-01 -9.16594081e-02  3.12675470e-02 -9.21121147e-02\n",
      "  1.35544270e+00 -3.98148129e-01 -1.61373536e-01  1.79444881e+00\n",
      "  2.75097020e-02  2.23201639e+00 -1.04979701e-01  1.36741498e+00\n",
      " -1.65534404e+00  1.53644461e-01 -1.58447356e+00  8.44454307e-01\n",
      " -1.21286782e+00  2.83769554e-01 -2.82195877e-01 -1.15820319e+00\n",
      " -1.61935998e+00 -5.11040464e-01  1.74062945e+00 -2.93485055e-01\n",
      "  9.17221542e-01 -5.70428677e-02  8.76726774e-01 -1.82691138e+00\n",
      " -4.03188307e-01  9.49405524e-01 -1.63254949e-01 -8.64552827e-02\n",
      " -4.30461912e-01  1.14937938e+00  2.97514354e-01  4.40222762e-02\n",
      "  6.43054545e-01  5.88224929e-01  2.12587046e-01  1.54703150e+00\n",
      " -6.02875336e-02  2.78081048e-01 -6.42952553e-01  1.50115227e-01\n",
      "  1.58776152e+00 -6.43257602e-01 -1.13359283e+00  9.96759643e-01\n",
      " -1.48766152e-01  9.60042050e-02 -4.51133037e-02  7.91217239e-02\n",
      "  8.50530684e-01 -8.39124191e-01 -1.01177408e+00  8.49681370e-02\n",
      " -1.60643969e+00 -1.37305354e+00  1.86668315e+00  7.57468330e-01\n",
      " -1.00564719e-02  1.23800694e+00 -1.04059923e+00 -3.15603123e-01\n",
      "  6.23453609e-01  8.90671681e-01  5.12916847e-01 -2.54123881e+00\n",
      " -9.68082118e-01  4.77068092e-01 -3.55951493e-01  2.54023162e+00\n",
      "  9.26558301e-01  5.58081881e-01 -1.11694955e+00 -3.52967396e-02\n",
      "  2.41203964e-01  1.12778363e+00  8.81131097e-01  1.03298919e+00\n",
      " -9.23912016e-01  1.41215170e+00 -1.38043075e+00 -5.35914562e-01\n",
      "  4.30771135e-01 -1.49891592e-01 -1.00603686e+00 -8.21549826e-01\n",
      " -1.54825432e+00  5.31974639e-01  1.26056885e+00 -1.00393503e-01\n",
      " -4.00348815e-01 -1.47232293e+00  9.13201924e-01  2.21130433e+00\n",
      " -1.79745580e+00 -1.06343294e+00 -6.79593043e-01 -5.64317910e-01\n",
      "  2.27345950e-01  1.61424955e+00  1.00859729e+00  5.27597383e-01\n",
      " -7.23928704e-01 -1.11962823e+00 -7.96775306e-01  1.54806680e+00\n",
      " -6.17433015e-02 -4.46836254e-01 -1.83755730e-01  8.24618220e-01\n",
      " -1.31284967e+00  1.41487414e+00  1.56476257e-01 -2.16343978e-01\n",
      "  4.42846114e-01  2.18397073e-01 -3.44196456e-01 -2.52710672e-01\n",
      " -8.68862547e-01  6.56390751e-01 -5.31993809e-01 -9.56258422e-01\n",
      "  1.65863523e-01  1.32914128e+00 -4.83446238e-02 -6.08101257e-01\n",
      "  4.03896021e-01  1.93671246e+00 -1.45190553e+00  3.82202788e-01\n",
      "  2.05086625e-01  1.16153380e+00  9.90909174e-01 -1.86709112e-01\n",
      " -1.68451726e+00  8.06563768e-01 -8.35192690e-01 -9.46740411e-01\n",
      "  1.14835058e+00 -9.10850378e-01  1.40284474e+00  3.35844721e-01\n",
      "  3.19118400e-01  3.07264781e-01 -1.63842363e+00 -1.77638862e+00\n",
      "  2.15553054e-01  5.68007359e-01  8.26110322e-02 -8.21534517e-01\n",
      "  1.89221039e-02 -8.20341531e-02 -9.57158098e-01  1.01397215e+00\n",
      " -1.73027606e+00  5.88742407e-01  3.84323405e-01  1.00971185e+00\n",
      " -1.00531187e+00  1.01407147e-01  2.17116495e+00  6.62074289e-01\n",
      "  1.00581209e-01  5.39161274e-01  8.61768424e-02  2.19089801e+00\n",
      "  9.83636196e-01 -8.56149542e-02  2.52331431e-01 -3.90797996e-01\n",
      "  1.20985013e+00 -1.40610477e+00 -1.60473853e+00  1.45871475e+00\n",
      "  2.15311979e+00  4.68304908e-01  1.12737941e-01  6.57267690e-01\n",
      " -6.47053526e-01  1.71243545e-01  3.89087059e-02  6.26564251e-01\n",
      " -1.55799853e+00 -5.07034770e-01  8.44995603e-01 -6.75593828e-01\n",
      " -9.93361375e-01  2.04207215e+00  3.81180002e-02 -5.78918140e-01\n",
      " -1.69237044e+00  7.29346346e-01  6.99136154e-01 -2.98759601e-01\n",
      " -1.10223019e+00 -2.45494236e-02 -8.35856067e-01 -9.42093589e-01\n",
      " -1.03212751e-01 -1.05139040e+00  2.46648955e-01  6.07992509e-01\n",
      " -8.39632447e-01 -1.36824510e+00  1.56127960e+00 -9.40270236e-01\n",
      " -6.59942705e-01  2.13017167e-01  5.99369373e-01 -2.56316894e-01\n",
      "  4.60794328e-01 -4.00986158e-01 -9.71170665e-01  1.42631686e+00\n",
      "  2.48844161e+00  1.69596953e+00  1.41806639e-01  1.83343536e+00\n",
      "  3.55703516e-01 -4.77286270e-01  4.66379574e-01 -9.43925064e-02\n",
      " -9.83118184e-01 -8.98321971e-01  8.02051739e-01 -1.84653198e+00\n",
      "  6.04136740e-01 -1.62958360e+00 -2.12117644e+00 -1.83884660e+00\n",
      "  1.96676397e+00 -1.96233965e-01  8.65831802e-02  1.41925505e+00\n",
      "  9.34179748e-01 -1.39150527e+00  8.69006343e-01  1.84181265e-01\n",
      " -3.41678098e-01  2.42909141e-02  1.27981202e+00 -8.85966482e-01\n",
      "  4.00885679e-01 -9.65723653e-03 -1.79716462e+00 -8.02253172e-01\n",
      "  1.93213553e-01  1.29734209e+00  1.00133102e+00  5.97212504e-01\n",
      " -8.15275661e-01  1.80121399e+00  2.15240468e-01 -1.00636552e+00\n",
      " -1.82904981e-01  8.96248425e-01  7.61749832e-03  8.86864687e-01\n",
      "  1.10369396e+00  4.00530685e-01 -8.57702623e-01  1.35454663e-01\n",
      "  4.51658559e-02  1.85934633e+00 -1.62632194e+00 -1.34822451e-01\n",
      " -5.84093547e-01  3.35105620e-01 -2.43756436e+00  1.11492456e+00\n",
      "  1.37484873e-02 -1.84470116e+00 -3.61113135e-01  6.08962342e-01\n",
      " -1.59144788e+00  3.22221644e-03 -1.05747365e+00 -5.55985032e-01\n",
      "  2.67383827e-02  1.83450254e-01 -4.70742498e-01  2.72796390e-01\n",
      "  8.17977607e-01 -2.78914275e-01  1.43156776e+00  1.46221417e+00\n",
      " -4.28702066e-01 -6.37840556e-01 -1.66417299e+00 -1.26569332e-01\n",
      " -3.63437780e-01  7.79051220e-01 -1.50966161e+00 -2.77391392e-01\n",
      "  9.68744393e-01 -7.30357096e-01 -7.62361537e-01 -1.44694033e+00\n",
      "  2.62057385e+00 -7.47473178e-01 -1.30034683e+00 -8.03850404e-01\n",
      " -7.74295080e-01 -2.69389778e-01  8.25372232e-01 -2.98323169e-01\n",
      " -9.22823315e-01 -1.45133850e+00  2.18573582e-02  4.25390740e-02\n",
      "  1.53093235e+00  9.24477355e-02 -9.90083113e-02 -1.05065384e+00\n",
      " -3.05952575e-01 -4.38474458e-01 -3.70164165e-01 -9.59255393e-01\n",
      "  5.38329603e-01 -1.42445418e-01 -2.00353480e-01 -1.71404612e+00\n",
      "  4.93644088e-01  4.87015326e-01 -8.39129403e-01  9.90121384e-01\n",
      " -1.36475823e+00 -2.18699088e-02 -2.71207340e-01 -1.31717479e+00\n",
      "  1.89702612e-01  1.70257015e+00  6.76342301e-02 -4.63021754e-01\n",
      "  4.47024157e-01  1.05719995e-01  2.77621316e-02 -4.25542213e-01\n",
      "  1.42197556e+00  4.56363363e-01 -5.28670659e-01 -1.08003837e-01\n",
      " -7.40866704e-01 -6.08291150e-01 -6.40725724e-01 -1.13431159e+00\n",
      "  7.77276964e-01 -2.91041463e-01  5.54127578e-01 -6.70125898e-01\n",
      " -6.03624944e-02 -7.11040597e-01  7.19668171e-01 -2.48419307e-01\n",
      " -7.30873586e-01 -1.64170323e+00  2.75666549e-01 -7.08385052e-01\n",
      " -1.57792171e-02 -4.91730108e-01  9.54189581e-01  5.44144752e-01\n",
      "  4.47212087e-01 -6.16121123e-01  4.66290044e-01  1.71483161e+00\n",
      " -8.32186034e-01  1.72339139e-01 -1.64921697e+00  1.39856209e+00\n",
      " -3.97912099e-01  7.82578881e-01 -1.72322825e+00  1.79753939e+00\n",
      " -3.56871528e-01  5.45657323e-01  1.50818206e-01 -2.55470786e-01\n",
      "  1.68579230e+00 -1.64804621e+00  2.98713660e-01  9.10645672e-01\n",
      " -2.98561216e-02 -1.18170784e-01 -1.42687712e-01 -1.22763642e+00\n",
      "  3.81273841e-02  5.12717523e-01  6.85992275e-02 -2.72276101e-01\n",
      " -4.89725022e-01 -2.79296669e-01  1.25774422e+00 -2.08663498e+00\n",
      "  4.00714565e-02 -3.27754917e-01  1.45580795e+00  5.54922254e-02\n",
      "  1.48492560e+00 -2.12389002e+00  4.59584905e-01  2.80057860e-01\n",
      "  1.39053397e+00 -1.64134861e+00 -1.55035808e-01  6.60602618e-02\n",
      " -4.95795495e-01  1.21657771e+00 -3.38682185e-01  2.03476254e+00\n",
      "  1.05417791e+00  9.50833697e-01  5.59298981e-01 -1.06369559e+00\n",
      " -4.31096338e-01  5.72751367e-01  6.77557034e-01  1.30718385e+00\n",
      " -4.67441010e-01 -8.60153385e-01  8.59104193e-01 -8.09626576e-01\n",
      "  8.73311836e-01  1.19973618e+00  4.56153036e-01 -3.57579032e-01\n",
      "  4.10822261e-02  5.93465920e-01  1.01855187e-02  2.19829634e+00\n",
      " -9.90670931e-01 -1.00266859e+00 -9.76895387e-01 -5.89579923e-01\n",
      " -2.17893152e+00 -6.29650427e-01 -6.53284702e-01  7.85140252e-02\n",
      "  4.17800583e-01 -1.24021634e+00  9.00054243e-01  1.80224223e+00\n",
      " -2.08285103e-01  1.57437124e+00  1.98989494e-01  1.98873192e+00\n",
      "  1.11728347e+00 -1.56390463e+00  1.86273707e-02  1.05432497e+00\n",
      "  3.05465810e-02 -3.68835308e-02  1.26976475e+00 -7.09854182e-01\n",
      "  1.75156133e-02  3.23625765e-01 -3.33790960e-01 -2.01291039e-02\n",
      "  7.75023263e-01  4.32837621e-01 -8.08717532e-01 -1.10412399e+00\n",
      " -7.89102180e-01  1.24845579e-03 -1.59939788e-01 -8.31957493e-01\n",
      " -5.98150453e-01 -1.52003929e+00  4.17853703e-01 -4.00187254e-02\n",
      " -1.25978734e+00  2.86205042e-02  1.34262201e+00 -7.39935853e-01\n",
      "  1.31513767e+00 -3.23457472e-01  1.97828168e-01  9.77508024e-02\n",
      "  1.40152342e+00  1.58433847e-01 -1.14190142e+00 -1.31097037e+00]\n"
     ]
    }
   ],
   "source": [
    "np.random.seed(0)\n",
    "x = np.random.randn(1000)\n",
    "y = np.random.randn(1000)\n",
    "print(x,y)"
   ]
  },
  {
   "cell_type": "markdown",
   "metadata": {},
   "source": [
    "## Problem 5b\n",
    "Create a plot that contains two subplots (one row, two plots). In each sub plot make a histogram of x and y random values from your matrix created in part a. Be sure to label your axes. The histograms will allow us to see how our data is distributed."
   ]
  },
  {
   "cell_type": "code",
   "execution_count": 222,
   "metadata": {},
   "outputs": [
    {
     "data": {
      "image/png": "[encoded data removed]",
      "text/plain": [
       "<Figure size 432x288 with 1 Axes>"
      ]
     },
     "metadata": {
      "needs_background": "light"
     },
     "output_type": "display_data"
    }
   ],
   "source": [
    "plt.hist(x)\n",
    "plt.title(\"Distribution of x-values\")\n",
    "plt.xlabel('x-value')\n",
    "plt.ylabel('Number of Occurences')\n",
    "plt.show()"
   ]
  },
  {
   "cell_type": "code",
   "execution_count": 224,
   "metadata": {},
   "outputs": [
    {
     "data": {
      "image/png": "[encoded data removed]",
      "text/plain": [
       "<Figure size 432x288 with 1 Axes>"
      ]
     },
     "metadata": {
      "needs_background": "light"
     },
     "output_type": "display_data"
    }
   ],
   "source": [
    "plt.hist(y)\n",
    "plt.title(\"Distribution of y-values\")\n",
    "plt.xlabel('y-value')\n",
    "plt.ylabel('Number of Occurences')\n",
    "plt.show()"
   ]
  },
  {
   "cell_type": "code",
   "execution_count": 230,
   "metadata": {},
   "outputs": [
    {
     "data": {
      "image/png": "[encoded data removed]",
      "text/plain": [
       "<Figure size 432x288 with 1 Axes>"
      ]
     },
     "metadata": {
      "needs_background": "light"
     },
     "output_type": "display_data"
    }
   ],
   "source": [
    "plt.hist(x)\n",
    "plt.hist(y)\n",
    "plt.title(\"Distribution of x-values and y-values\")\n",
    "plt.xlabel('x- and y-values')\n",
    "plt.ylabel('Number of Occurences')\n",
    "plt.legend([\"x-values\", \"y-values\"])\n",
    "plt.show()"
   ]
  },
  {
   "cell_type": "markdown",
   "metadata": {},
   "source": [
    "## Problem 5c\n",
    "Now make a x-y scatter plot of your 2D matrix from part a. Each axis should contain one matrix dimension. Be sure to label your axes. This will allow us to see if there are any obvious correlations or dependencies on one another in our data."
   ]
  },
  {
   "cell_type": "code",
   "execution_count": 232,
   "metadata": {},
   "outputs": [
    {
     "data": {
      "image/png": "[encoded data removed]",
      "text/plain": [
       "<Figure size 432x288 with 1 Axes>"
      ]
     },
     "metadata": {
      "needs_background": "light"
     },
     "output_type": "display_data"
    }
   ],
   "source": [
    "plt.scatter(x,y)\n",
    "plt.title(\"Scatter Plot of x-values and y-values\")\n",
    "plt.xlabel('x-value')\n",
    "plt.ylabel('y-values')\n",
    "plt.show()"
   ]
  },
  {
   "cell_type": "markdown",
   "metadata": {},
   "source": [
    "## Problem 5d\n",
    "The scatter plot from part c is good for investigating dependencies, but it is often hard to judge the density of the data, i.e. how much of our data is at a particular x-y range. To see this more clearly we can make a 2D histogram plot, where color corresponding to a 2D bin changes based on the number of counts in it.\n",
    "\n",
    "Make a 2D histogram of your 2D matrix from part a."
   ]
  },
  {
   "cell_type": "code",
   "execution_count": 239,
   "metadata": {},
   "outputs": [
    {
     "data": {
      "image/png": "[encoded data removed]",
      "text/plain": [
       "<Figure size 432x288 with 1 Axes>"
      ]
     },
     "metadata": {
      "needs_background": "light"
     },
     "output_type": "display_data"
    }
   ],
   "source": [
    "plt.hist(x, bins=20, ec='black')\n",
    "plt.hist(y, bins=20, ec='black')\n",
    "plt.title(\"Distribution of x-values and y-values\")\n",
    "plt.xlabel('x- and y-values')\n",
    "plt.ylabel('Number of Occurences')\n",
    "plt.legend([\"x-values\", \"y-values\"])\n",
    "plt.show()"
   ]
  },
  {
   "cell_type": "markdown",
   "metadata": {},
   "source": [
    "## Problem 6\n",
    "\n",
    "Using *linspace* Generate 100 equally spaced points from 0 to 1. Then plot the cube of the values generated from *linespace* vs the *linspace* generated values."
   ]
  },
  {
   "cell_type": "code",
   "execution_count": 108,
   "metadata": {},
   "outputs": [
    {
     "data": {
      "text/plain": [
       "array([0.        , 0.01010101, 0.02020202, 0.03030303, 0.04040404,\n",
       "       0.05050505, 0.06060606, 0.07070707, 0.08080808, 0.09090909,\n",
       "       0.1010101 , 0.11111111, 0.12121212, 0.13131313, 0.14141414,\n",
       "       0.15151515, 0.16161616, 0.17171717, 0.18181818, 0.19191919,\n",
       "       0.2020202 , 0.21212121, 0.22222222, 0.23232323, 0.24242424,\n",
       "       0.25252525, 0.26262626, 0.27272727, 0.28282828, 0.29292929,\n",
       "       0.3030303 , 0.31313131, 0.32323232, 0.33333333, 0.34343434,\n",
       "       0.35353535, 0.36363636, 0.37373737, 0.38383838, 0.39393939,\n",
       "       0.4040404 , 0.41414141, 0.42424242, 0.43434343, 0.44444444,\n",
       "       0.45454545, 0.46464646, 0.47474747, 0.48484848, 0.49494949,\n",
       "       0.50505051, 0.51515152, 0.52525253, 0.53535354, 0.54545455,\n",
       "       0.55555556, 0.56565657, 0.57575758, 0.58585859, 0.5959596 ,\n",
       "       0.60606061, 0.61616162, 0.62626263, 0.63636364, 0.64646465,\n",
       "       0.65656566, 0.66666667, 0.67676768, 0.68686869, 0.6969697 ,\n",
       "       0.70707071, 0.71717172, 0.72727273, 0.73737374, 0.74747475,\n",
       "       0.75757576, 0.76767677, 0.77777778, 0.78787879, 0.7979798 ,\n",
       "       0.80808081, 0.81818182, 0.82828283, 0.83838384, 0.84848485,\n",
       "       0.85858586, 0.86868687, 0.87878788, 0.88888889, 0.8989899 ,\n",
       "       0.90909091, 0.91919192, 0.92929293, 0.93939394, 0.94949495,\n",
       "       0.95959596, 0.96969697, 0.97979798, 0.98989899, 1.        ])"
      ]
     },
     "execution_count": 108,
     "metadata": {},
     "output_type": "execute_result"
    }
   ],
   "source": [
    "zero_to_one = np.linspace(0,1,100)\n",
    "zero_to_one"
   ]
  },
  {
   "cell_type": "code",
   "execution_count": 109,
   "metadata": {},
   "outputs": [
    {
     "data": {
      "text/plain": [
       "array([0.00000000e+00, 1.03061015e-06, 8.24488122e-06, 2.78264741e-05,\n",
       "       6.59590497e-05, 1.28826269e-04, 2.22611793e-04, 3.53499282e-04,\n",
       "       5.27672398e-04, 7.51314801e-04, 1.03061015e-03, 1.37174211e-03,\n",
       "       1.78089434e-03, 2.26425050e-03, 2.82799426e-03, 3.47830926e-03,\n",
       "       4.22137918e-03, 5.06338768e-03, 6.01051841e-03, 7.06895503e-03,\n",
       "       8.24488122e-03, 9.54448062e-03, 1.09739369e-02, 1.25394337e-02,\n",
       "       1.42471547e-02, 1.61032836e-02, 1.81140040e-02, 2.02854996e-02,\n",
       "       2.26239541e-02, 2.51355510e-02, 2.78264741e-02, 3.07029070e-02,\n",
       "       3.37710335e-02, 3.70370370e-02, 4.05071014e-02, 4.41874103e-02,\n",
       "       4.80841473e-02, 5.22034960e-02, 5.65516403e-02, 6.11347636e-02,\n",
       "       6.59590497e-02, 7.10306823e-02, 7.63558450e-02, 8.19407214e-02,\n",
       "       8.77914952e-02, 9.39143501e-02, 1.00315470e-01, 1.07001038e-01,\n",
       "       1.13977238e-01, 1.21250254e-01, 1.28826269e-01, 1.36711467e-01,\n",
       "       1.44912032e-01, 1.53434148e-01, 1.62283997e-01, 1.71467764e-01,\n",
       "       1.80991632e-01, 1.90861786e-01, 2.01084408e-01, 2.11665682e-01,\n",
       "       2.22611793e-01, 2.33928923e-01, 2.45623256e-01, 2.57700977e-01,\n",
       "       2.70168268e-01, 2.83031313e-01, 2.96296296e-01, 3.09969401e-01,\n",
       "       3.24056811e-01, 3.38564710e-01, 3.53499282e-01, 3.68866710e-01,\n",
       "       3.84673178e-01, 4.00924870e-01, 4.17627968e-01, 4.34788658e-01,\n",
       "       4.52413122e-01, 4.70507545e-01, 4.89078109e-01, 5.08130999e-01,\n",
       "       5.27672398e-01, 5.47708490e-01, 5.68245458e-01, 5.89289487e-01,\n",
       "       6.10846760e-01, 6.32923460e-01, 6.55525771e-01, 6.78659877e-01,\n",
       "       7.02331962e-01, 7.26548208e-01, 7.51314801e-01, 7.76637923e-01,\n",
       "       8.02523758e-01, 8.28978490e-01, 8.56008303e-01, 8.83619379e-01,\n",
       "       9.11817904e-01, 9.40610059e-01, 9.70002030e-01, 1.00000000e+00])"
      ]
     },
     "execution_count": 109,
     "metadata": {},
     "output_type": "execute_result"
    }
   ],
   "source": [
    "cubed = zero_to_one**3\n",
    "cubed"
   ]
  },
  {
   "cell_type": "code",
   "execution_count": 110,
   "metadata": {},
   "outputs": [
    {
     "data": {
      "image/png": "[encoded data removed]",
      "text/plain": [
       "<Figure size 432x288 with 1 Axes>"
      ]
     },
     "metadata": {
      "needs_background": "light"
     },
     "output_type": "display_data"
    }
   ],
   "source": [
    "plt.plot(zero_to_one,cubed)\n",
    "plt.title(\"Cubed Vales vs Original Values\")\n",
    "plt.xlabel(\"Original values\")\n",
    "plt.ylabel(\"Cubed values\")\n",
    "plt.show()"
   ]
  }
 ],
 "metadata": {
  "kernelspec": {
   "display_name": "Python 3",
   "language": "python",
   "name": "python3"
  },
  "language_info": {
   "codemirror_mode": {
    "name": "ipython",
    "version": 3
   },
   "file_extension": ".py",
   "mimetype": "text/x-python",
   "name": "python",
   "nbconvert_exporter": "python",
   "pygments_lexer": "ipython3",
   "version": "3.8.3"
  }
 },
 "nbformat": 4,
 "nbformat_minor": 4
}
